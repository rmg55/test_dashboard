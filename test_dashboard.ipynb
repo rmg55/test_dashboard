{
 "cells": [
  {
   "cell_type": "code",
   "execution_count": null,
   "metadata": {},
   "outputs": [],
   "source": [
    "import xarray as xr\n",
    "import hvplot.xarray\n",
    "import panel as pn\n",
    "import pandas as pd\n",
    "from holoviews.element import tiles\n",
    "import holoviews as hv\n",
    "import geoviews as gv\n",
    "import cartopy.crs as ccrs\n",
    "import fsspec\n",
    "import numpy as np\n",
    "import glob\n",
    "import dask\n",
    "from dask.distributed import Client, LocalCluster\n",
    "from dask.diagnostics import ProgressBar\n",
    "gv.extension('bokeh',logo=False)\n",
    "hv.extension('bokeh',logo=False)\n",
    "pn.extension()"
   ]
  },
  {
   "cell_type": "code",
   "execution_count": null,
   "metadata": {},
   "outputs": [],
   "source": [
    "pd.__version__"
   ]
  },
  {
   "cell_type": "code",
   "execution_count": null,
   "metadata": {},
   "outputs": [],
   "source": [
    "get_tile_id = False\n",
    "\n",
    "if get_tile_id:\n",
    "    df = pd.read_csv('https://hls.gsfc.nasa.gov/wp-content/uploads/2016/10/S2_TilingSystem2-1.txt',delim_whitespace=True)\n",
    "    cper_lat = 40.8406\n",
    "    cper_lon = -104.71538\n",
    "    print(df[(df.MinLon<=cper_lon)&(df.MaxLon>=cper_lon)&(df['MinLon.1']<=cper_lat)&(df['MaxLon.1']>=cper_lat)])"
   ]
  },
  {
   "cell_type": "code",
   "execution_count": null,
   "metadata": {},
   "outputs": [],
   "source": [
    "#extents of CPER\n",
    "min_x = 517617.218700\n",
    "max_x = 527253.409100\n",
    "min_y = 4514729.500000\n",
    "max_y = 4524372.500000"
   ]
  },
  {
   "cell_type": "code",
   "execution_count": null,
   "metadata": {},
   "outputs": [],
   "source": [
    "fs = fsspec.filesystem('https')\n",
    "S30_yrs = np.arange(2015,2020,dtype=int)\n",
    "L30_yrs = np.arange(2013,2020,dtype=int)\n",
    "\n",
    "# Get list of all Files\n",
    "f_names = {'Sentinel':[],\n",
    "           'Landsat':[]}\n",
    "S_prefix = 'https://hlssa.blob.core.windows.net/hls/S309/'\n",
    "L_prefix = 'https://hlssa.blob.core.windows.net/hls/L309/'\n",
    "for yr in S30_yrs:\n",
    "    for fi in fs.glob('https://hls.gsfc.nasa.gov/data/v1.4/S30/'+str(yr)+'/13/T/E/F/*.hdf'):\n",
    "        bname = glob.os.path.basename(fi)[0:-4]\n",
    "        f_names['Sentinel'].append(S_prefix+bname)\n",
    "for yr in L30_yrs:\n",
    "    for fi in fs.glob('https://hls.gsfc.nasa.gov/data/v1.4/L30/'+str(yr)+'/13/T/E/F/*.hdf'):\n",
    "        bname = glob.os.path.basename(fi)[0:-4]\n",
    "        f_names['Landsat'].append(L_prefix+bname)\n",
    "        \n",
    "cluster = LocalCluster(threads_per_worker=1)\n",
    "client = Client(cluster)\n",
    "client"
   ]
  },
  {
   "cell_type": "code",
   "execution_count": null,
   "metadata": {},
   "outputs": [],
   "source": [
    "#Read Data from the Azure Blob Storage\n",
    "def read_dat(blob_file):\n",
    "    try:\n",
    "        if 'S30' in blob_file:\n",
    "            red = xr.open_rasterio(blob_file+'_04.tif',chunks={}).sel(y=slice(max_y,min_y),x=slice(min_x,max_x))\n",
    "            nir = xr.open_rasterio(blob_file+'_09.tif',chunks={}).sel(y=slice(max_y,min_y),x=slice(min_x,max_x))\n",
    "        if 'L30' in blob_file:\n",
    "            red = xr.open_rasterio(blob_file+'_04.tif',chunks={}).sel(y=slice(max_y,min_y),x=slice(min_x,max_x))\n",
    "            nir = xr.open_rasterio(blob_file+'_05.tif',chunks={}).sel(y=slice(max_y,min_y),x=slice(min_x,max_x))\n",
    "        ndvi = (nir - red) / (nir + red)\n",
    "        ndvi = ndvi.rename(band='date')\n",
    "        ndvi = ndvi.assign_coords(date = [pd.to_datetime(blob_file[60:-5],format='%Y%j')])\n",
    "        ndvi = ndvi.persist()\n",
    "        return(ndvi)\n",
    "    except:\n",
    "        return()"
   ]
  },
  {
   "cell_type": "code",
   "execution_count": null,
   "metadata": {},
   "outputs": [],
   "source": [
    "#Download Data and combine into a single xarray object\n",
    "ndvi = []\n",
    "for files in f_names['Sentinel'][0:3]:\n",
    "    ndvi.append(dask.delayed(read_dat)(files))\n",
    "for files in f_names['Landsat'][0:3]:\n",
    "    ndvi.append(dask.delayed(read_dat)(files))\n",
    "\n",
    "ndvi = dask.compute(*ndvi)\n",
    "ndvi = xr.combine_by_coords([n.to_dataset(name='ndvi') for n in ndvi if n is not ()])"
   ]
  },
  {
   "cell_type": "code",
   "execution_count": null,
   "metadata": {},
   "outputs": [],
   "source": [
    "#Show\n",
    "pp = pn.Row(ndvi.hvplot.image(x='x',\n",
    "                              y='y',\n",
    "                              crs=32613,\n",
    "                              cmap='viridis',\n",
    "                              min_width=1000,\n",
    "                              min_height=800).opts(alpha=.7)*gv.tile_sources.EsriImagery())\n",
    "pp.servable()"
   ]
  }
 ],
 "metadata": {
  "kernelspec": {
   "display_name": "Python [conda env:dashboard_test]",
   "language": "python",
   "name": "conda-env-dashboard_test-py"
  },
  "language_info": {
   "codemirror_mode": {
    "name": "ipython",
    "version": 3
   },
   "file_extension": ".py",
   "mimetype": "text/x-python",
   "name": "python",
   "nbconvert_exporter": "python",
   "pygments_lexer": "ipython3",
   "version": "3.7.6"
  }
 },
 "nbformat": 4,
 "nbformat_minor": 4
}
