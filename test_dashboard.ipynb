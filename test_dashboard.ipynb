{
 "cells": [
  {
   "cell_type": "code",
   "execution_count": null,
   "metadata": {},
   "outputs": [],
   "source": [
    "import xarray as xr\n",
    "import hvplot.xarray\n",
    "import panel as pn\n",
    "import pandas as pd\n",
    "from holoviews.element import tiles\n",
    "import holoviews as hv\n",
    "import geoviews as gv\n",
    "import cartopy.crs as ccrs\n",
    "import fsspec\n",
    "import numpy as np\n",
    "import glob\n",
    "import dask\n",
    "import geopandas as gpd\n",
    "import re\n",
    "gv.extension('bokeh',logo=False)\n",
    "hv.extension('bokeh',logo=False)\n",
    "pn.extension()"
   ]
  },
  {
   "cell_type": "code",
   "execution_count": null,
   "metadata": {},
   "outputs": [],
   "source": [
    "from dask_gateway import Gateway\n",
    "from dask.distributed import Client\n",
    "gateway = Gateway()\n",
    "options = gateway.cluster_options()\n",
    "cluster = gateway.new_cluster()\n",
    "cluster.adapt(minimum=0,maximum=80)\n",
    "client = Client(cluster)\n",
    "client"
   ]
  },
  {
   "cell_type": "code",
   "execution_count": null,
   "metadata": {},
   "outputs": [],
   "source": [
    "cper = gpd.read_file('data/cper.geojson')\n",
    "cper = cper.rename(columns={'Past_Name_':'Pasture'})\n",
    "df = pd.read_csv('https://hls.gsfc.nasa.gov/wp-content/uploads/2016/10/S2_TilingSystem2-1.txt',delim_whitespace=True)\n",
    "min_geo_x,min_geo_y,max_geo_x,max_geo_y = cper.to_crs(4326).total_bounds\n",
    "lon = (min_geo_x+max_geo_x)/2.\n",
    "lat = (min_geo_y+max_geo_y)/2.\n",
    "tile_info = df[(df.MinLon<=lon)&(df.MaxLon>=lon)&(df['MinLon.1']<=lat)&(df['MaxLon.1']>=lat)]\n",
    "tile_id = tile_info.TilID.values[0]\n",
    "epsg = int(tile_info.EPSG.values[0])\n",
    "min_x,min_y,max_x,max_y = cper.to_crs(epsg).total_bounds\n",
    "total_area = cper.area.sum()/(1000.*1000.) #Square km"
   ]
  },
  {
   "cell_type": "code",
   "execution_count": null,
   "metadata": {},
   "outputs": [],
   "source": []
  },
  {
   "cell_type": "code",
   "execution_count": null,
   "metadata": {},
   "outputs": [],
   "source": [
    "fs = fsspec.filesystem('https')\n",
    "S30_yrs = np.arange(2015,2020,dtype=int)\n",
    "L30_yrs = np.arange(2013,2020,dtype=int)\n",
    "\n",
    "tile_id1,tile_id2,tile_id3,tile_id4 = [l for l in re.split('(\\d*)',tile_id) if l is not '']\n",
    "\n",
    "# Get list of all Files\n",
    "f_names = {'Sentinel':[],\n",
    "           'Landsat':[]}\n",
    "S_prefix = 'https://hlssa.blob.core.windows.net/hls/S309/'\n",
    "L_prefix = 'https://hlssa.blob.core.windows.net/hls/L309/'\n",
    "for yr in S30_yrs:\n",
    "    for fi in fs.glob('https://hls.gsfc.nasa.gov/data/v1.4/S30/'+str(yr)+'/'+tile_id1+'/'+tile_id2+'/'+tile_id3+'/'+tile_id4+'/*.hdf'):\n",
    "        bname = glob.os.path.basename(fi)[0:-4]\n",
    "        f_names['Sentinel'].append(S_prefix+bname)\n",
    "for yr in L30_yrs:\n",
    "    for fi in fs.glob('https://hls.gsfc.nasa.gov/data/v1.4/L30/'+str(yr)+'/'+tile_id1+'/'+tile_id2+'/'+tile_id3+'/'+tile_id4+'/*.hdf'):\n",
    "        bname = glob.os.path.basename(fi)[0:-4]\n",
    "        f_names['Landsat'].append(L_prefix+bname)"
   ]
  },
  {
   "cell_type": "code",
   "execution_count": null,
   "metadata": {},
   "outputs": [],
   "source": [
    "#Read Data from the Azure Blob Storage\n",
    "def read_dat(blob_file):\n",
    "    try:\n",
    "        if 'S30' in blob_file:\n",
    "            red = xr.open_rasterio(blob_file+'_04.tif',chunks={}).sel(y=slice(max_y,min_y),x=slice(min_x,max_x))\n",
    "            nir = xr.open_rasterio(blob_file+'_09.tif',chunks={}).sel(y=slice(max_y,min_y),x=slice(min_x,max_x))\n",
    "        if 'L30' in blob_file:\n",
    "            red = xr.open_rasterio(blob_file+'_04.tif',chunks={}).sel(y=slice(max_y,min_y),x=slice(min_x,max_x))\n",
    "            nir = xr.open_rasterio(blob_file+'_05.tif',chunks={}).sel(y=slice(max_y,min_y),x=slice(min_x,max_x))\n",
    "        ndvi = (nir - red) / (nir + red)\n",
    "        ndvi = ndvi.rename(band='date')\n",
    "        ndvi = ndvi.assign_coords(date = [pd.to_datetime(blob_file[60:-5],format='%Y%j')])\n",
    "        ndvi = ndvi.compute()\n",
    "        return(ndvi)\n",
    "    except:\n",
    "        return()"
   ]
  },
  {
   "cell_type": "code",
   "execution_count": null,
   "metadata": {},
   "outputs": [],
   "source": [
    "#Download Data and combine into a single xarray object\n",
    "ndvi = []\n",
    "for files in f_names['Sentinel']:\n",
    "    ndvi.append(dask.delayed(read_dat)(files))\n",
    "for files in f_names['Landsat']:\n",
    "    ndvi.append(dask.delayed(read_dat)(files))\n",
    "ndvi = dask.compute(*ndvi)\n",
    "ndvi = xr.combine_by_coords([n.to_dataset(name='ndvi') for n in ndvi if n is not ()])"
   ]
  },
  {
   "cell_type": "code",
   "execution_count": null,
   "metadata": {},
   "outputs": [],
   "source": [
    "cper_outline = gv.Polygons(cper.to_crs(epsg),vdims='Pasture',crs=ccrs.epsg(epsg)).opts(tools=['hover'], line_color='k',fill_alpha=0)\n",
    "pp = pn.Row(ndvi.hvplot.image(x='x',\n",
    "                              y='y',\n",
    "                              crs=32613,\n",
    "                              cmap='viridis',\n",
    "                              min_width=1000,\n",
    "                              min_height=800).opts(alpha=.7,clim=(-.2,.6)) * cper_outline * gv.tile_sources.EsriImagery())\n",
    "pp.servable()"
   ]
  }
 ],
 "metadata": {
  "kernelspec": {
   "display_name": "Python 3",
   "language": "python",
   "name": "python3"
  },
  "language_info": {
   "codemirror_mode": {
    "name": "ipython",
    "version": 3
   },
   "file_extension": ".py",
   "mimetype": "text/x-python",
   "name": "python",
   "nbconvert_exporter": "python",
   "pygments_lexer": "ipython3",
   "version": "3.7.6"
  }
 },
 "nbformat": 4,
 "nbformat_minor": 4
}
